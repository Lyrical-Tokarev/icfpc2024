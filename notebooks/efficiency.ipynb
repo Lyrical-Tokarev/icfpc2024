{
 "cells": [
  {
   "cell_type": "code",
   "execution_count": 1,
   "metadata": {},
   "outputs": [],
   "source": [
    "import os, sys\n",
    "if not \"../src\" in sys.path:\n",
    "    sys.path.append(\"../src\")\n",
    "\n",
    "from pathlib import Path\n",
    "import requests\n",
    "TASKDIR = Path(\"../tasks\")\n",
    "TASKDIR.mkdir(exist_ok=True)\n",
    "import numpy as np\n",
    "import networkx as nx\n",
    "import tokens\n",
    "import utils"
   ]
  },
  {
   "cell_type": "code",
   "execution_count": null,
   "metadata": {},
   "outputs": [],
   "source": []
  }
 ],
 "metadata": {
  "kernelspec": {
   "display_name": "kaggle_env_py310",
   "language": "python",
   "name": "python3"
  },
  "language_info": {
   "codemirror_mode": {
    "name": "ipython",
    "version": 3
   },
   "file_extension": ".py",
   "mimetype": "text/x-python",
   "name": "python",
   "nbconvert_exporter": "python",
   "pygments_lexer": "ipython3",
   "version": "3.10.14"
  }
 },
 "nbformat": 4,
 "nbformat_minor": 2
}
