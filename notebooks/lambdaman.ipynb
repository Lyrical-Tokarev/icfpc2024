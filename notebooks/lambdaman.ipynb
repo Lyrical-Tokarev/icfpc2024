{
 "cells": [
  {
   "cell_type": "code",
   "execution_count": 2,
   "metadata": {},
   "outputs": [],
   "source": [
    "import os, sys\n",
    "if not \"../src\" in sys.path:\n",
    "    sys.path.append(\"../src\")\n",
    "\n",
    "from pathlib import Path\n",
    "import requests\n",
    "TASKDIR = Path(\"../tasks\")\n",
    "TASKDIR.mkdir(exist_ok=True)\n",
    "import numpy as np\n",
    "import networkx as nx\n",
    "import tokens\n",
    "import utils"
   ]
  },
  {
   "cell_type": "code",
   "execution_count": 8,
   "metadata": {},
   "outputs": [],
   "source": [
    "def read_lambdaman_file(path):\n",
    "    coordinates = []\n",
    "    with open(path) as f:\n",
    "        for line in f:\n",
    "            line = line.strip()\n",
    "            line = list(line)\n",
    "            if len(line) > 0:\n",
    "                coordinates.append(line)\n",
    "    return coordinates\n",
    "\n",
    "coordinates = read_lambdaman_file(TASKDIR/\"lambdaman\"/\"lambdaman1.txt\")"
   ]
  },
  {
   "cell_type": "code",
   "execution_count": 15,
   "metadata": {},
   "outputs": [],
   "source": [
    "\n",
    "def coordinates2graph(coordinates):\n",
    "    nrows, ncols = len(coordinates), len(coordinates[0])\n",
    "    pass\n",
    "coordinates2graph(coordinates)"
   ]
  },
  {
   "cell_type": "code",
   "execution_count": 16,
   "metadata": {},
   "outputs": [],
   "source": [
    "nrows, ncols = len(coordinates), len(coordinates[0])"
   ]
  },
  {
   "cell_type": "code",
   "execution_count": 73,
   "metadata": {},
   "outputs": [],
   "source": [
    "matrix_graph = nx.Graph()\n",
    "matrix_indices = -1*np.ones((nrows, ncols), dtype=int)\n",
    "# n_nodes = 0\n",
    "# no_wall_nodes = set()\n",
    "player_index = -1\n",
    "for i in np.arange(nrows):\n",
    "    for j in np.arange(ncols):\n",
    "        symbol = coordinates[i][j]\n",
    "        if symbol == \"#\":\n",
    "            continue\n",
    "            # no_wall_nodes.add(n_nodes)\n",
    "        node_index = i*ncols + j\n",
    "        if symbol == \"L\":\n",
    "            player_index = node_index\n",
    "        matrix_graph.add_node(node_index, symbol=symbol, i=i, j=j)\n",
    "        matrix_indices[i, j] = node_index\n",
    "        \n",
    "        if i > 0:\n",
    "            n_symbol = coordinates[i-1][j]\n",
    "            if n_symbol != \"#\":\n",
    "                neighbour_index = matrix_indices[i - 1, j]\n",
    "                matrix_graph.add_edge(neighbour_index, node_index)\n",
    "            #matrix_graph.add_edge(n_nodes, neighbour_index)\n",
    "        if j > 0:\n",
    "            n_symbol = coordinates[i][j-1]\n",
    "            if n_symbol!=\"#\":\n",
    "                neighbour_index = matrix_indices[i, j - 1]\n",
    "                matrix_graph.add_edge(neighbour_index, node_index)\n",
    "            # matrix_graph.add_edge(n_nodes, neighbour_index)\n",
    "        # n_nodes += 1\n",
    "# matrix_graph = matrix_graph.subgraph(no_wall_nodes)\n"
   ]
  },
  {
   "cell_type": "code",
   "execution_count": 76,
   "metadata": {},
   "outputs": [],
   "source": [
    "for comp_nodes in nx.connected_components(matrix_graph):\n",
    "    if player_index in comp_nodes:\n",
    "        component_graph = matrix_graph.subgraph(comp_nodes)"
   ]
  },
  {
   "cell_type": "code",
   "execution_count": 79,
   "metadata": {},
   "outputs": [
    {
     "data": {
      "text/plain": [
       "EdgeView([(3, 11), (5, 6), (5, 13), (6, 7), (8, 9), (8, 16), (9, 10), (10, 11), (11, 12), (12, 13)])"
      ]
     },
     "execution_count": 79,
     "metadata": {},
     "output_type": "execute_result"
    }
   ],
   "source": [
    "spanning_tree = nx.minimum_spanning_tree(component_graph)\n",
    "spanning_tree.edges"
   ]
  },
  {
   "cell_type": "code",
   "execution_count": null,
   "metadata": {},
   "outputs": [],
   "source": []
  },
  {
   "cell_type": "code",
   "execution_count": 62,
   "metadata": {},
   "outputs": [
    {
     "data": {
      "text/plain": [
       "array([[False, False, False,  True, False,  True,  True,  True],\n",
       "       [ True,  True,  True,  True,  True,  True, False, False],\n",
       "       [ True, False, False, False, False, False, False, False]])"
      ]
     },
     "execution_count": 62,
     "metadata": {},
     "output_type": "execute_result"
    }
   ],
   "source": [
    "np.isin(matrix_indices, np.asarray(list(matrix_graph.nodes)))"
   ]
  },
  {
   "cell_type": "code",
   "execution_count": 50,
   "metadata": {},
   "outputs": [
    {
     "data": {
      "text/plain": [
       "[['#', '#', '#', '.', '#', '.', '.', '.'],\n",
       " ['.', '.', '.', 'L', '.', '.', '#', '#'],\n",
       " ['.', '#', '#', '#', '#', '#', '#', '#']]"
      ]
     },
     "execution_count": 50,
     "metadata": {},
     "output_type": "execute_result"
    }
   ],
   "source": [
    "coordinates"
   ]
  },
  {
   "cell_type": "code",
   "execution_count": 64,
   "metadata": {},
   "outputs": [
    {
     "data": {
      "text/plain": [
       "array([[ 0,  1,  2,  3,  4,  5,  6,  7],\n",
       "       [ 8,  9, 10, 11, 12, 13, 14, 15],\n",
       "       [16, 17, 18, 19, 20, 21, 22, 23]])"
      ]
     },
     "execution_count": 64,
     "metadata": {},
     "output_type": "execute_result"
    }
   ],
   "source": [
    "matrix_indices"
   ]
  },
  {
   "cell_type": "code",
   "execution_count": 103,
   "metadata": {},
   "outputs": [],
   "source": [
    "# with open(\"../tasks/lambdaman/lambdaman17.txt\") as f:\n",
    "#     lines = f.readlines()\n",
    "#     lines = \"\".join(lines)\n",
    "    \n",
    "# print(lines)\n",
    "# # utils.parse_text(lines).show()\n"
   ]
  },
  {
   "cell_type": "code",
   "execution_count": null,
   "metadata": {},
   "outputs": [],
   "source": []
  },
  {
   "cell_type": "code",
   "execution_count": null,
   "metadata": {},
   "outputs": [],
   "source": []
  }
 ],
 "metadata": {
  "kernelspec": {
   "display_name": "kaggle_env",
   "language": "python",
   "name": "python3"
  },
  "language_info": {
   "codemirror_mode": {
    "name": "ipython",
    "version": 3
   },
   "file_extension": ".py",
   "mimetype": "text/x-python",
   "name": "python",
   "nbconvert_exporter": "python",
   "pygments_lexer": "ipython3",
   "version": "3.8.15"
  }
 },
 "nbformat": 4,
 "nbformat_minor": 2
}
