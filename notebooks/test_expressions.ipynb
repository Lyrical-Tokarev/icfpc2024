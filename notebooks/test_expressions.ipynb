{
 "cells": [
  {
   "cell_type": "code",
   "execution_count": 244,
   "metadata": {},
   "outputs": [
    {
     "name": "stdout",
     "output_type": "stream",
     "text": [
      "The autoreload extension is already loaded. To reload it, use:\n",
      "  %reload_ext autoreload\n"
     ]
    }
   ],
   "source": [
    "%load_ext autoreload\n",
    "%autoreload 2"
   ]
  },
  {
   "cell_type": "code",
   "execution_count": 245,
   "metadata": {},
   "outputs": [],
   "source": [
    "from pathlib import Path\n",
    "TASKDIR = Path(\"../tasks\")\n",
    "TASKDIR.mkdir(exist_ok=True)\n",
    "import os, sys\n",
    "import networkx as nx\n",
    "if not \"../src\" in sys.path:\n",
    "    sys.path.append(\"../src\")\n",
    "# Local modules:\n",
    "import tokens\n",
    "import utils"
   ]
  },
  {
   "cell_type": "code",
   "execution_count": 246,
   "metadata": {},
   "outputs": [
    {
     "name": "stdout",
     "output_type": "stream",
     "text": [
      "T\n"
     ]
    },
    {
     "data": {
      "text/plain": [
       "True"
      ]
     },
     "execution_count": 246,
     "metadata": {},
     "output_type": "execute_result"
    }
   ],
   "source": [
    "cmd = tokens.BooleanToken(True)\n",
    "print(str(cmd))\n",
    "cmd().show()"
   ]
  },
  {
   "cell_type": "code",
   "execution_count": 247,
   "metadata": {},
   "outputs": [
    {
     "name": "stdout",
     "output_type": "stream",
     "text": [
      "I\"\n"
     ]
    },
    {
     "data": {
      "text/plain": [
       "1"
      ]
     },
     "execution_count": 247,
     "metadata": {},
     "output_type": "execute_result"
    }
   ],
   "source": [
    "cmd = tokens.IntegerToken(1)\n",
    "print(str(cmd))\n",
    "cmd().show()"
   ]
  },
  {
   "cell_type": "code",
   "execution_count": 248,
   "metadata": {},
   "outputs": [
    {
     "name": "stdout",
     "output_type": "stream",
     "text": [
      "S3)-0,%}4%34\n"
     ]
    },
    {
     "data": {
      "text/plain": [
       "'simple test'"
      ]
     },
     "execution_count": 248,
     "metadata": {},
     "output_type": "execute_result"
    }
   ],
   "source": [
    "cmd = tokens.StringToken(\"simple test\")\n",
    "print(str(cmd))\n",
    "cmd().show()"
   ]
  },
  {
   "cell_type": "code",
   "execution_count": 249,
   "metadata": {},
   "outputs": [
    {
     "name": "stdout",
     "output_type": "stream",
     "text": [
      "U- I$\n",
      "U- I$\n"
     ]
    },
    {
     "data": {
      "text/plain": [
       "-3"
      ]
     },
     "execution_count": 249,
     "metadata": {},
     "output_type": "execute_result"
    }
   ],
   "source": [
    "cmd = tokens.UnaryToken(\"-\", tokens.IntegerToken(3))\n",
    "print(str(cmd))\n",
    "result = cmd()\n",
    "print(result)\n",
    "result.value"
   ]
  },
  {
   "cell_type": "code",
   "execution_count": 250,
   "metadata": {},
   "outputs": [
    {
     "name": "stdout",
     "output_type": "stream",
     "text": [
      "got negative number\n"
     ]
    },
    {
     "data": {
      "text/plain": [
       "'\"'"
      ]
     },
     "execution_count": 250,
     "metadata": {},
     "output_type": "execute_result"
    }
   ],
   "source": [
    "tokens.to_base94(-1)"
   ]
  },
  {
   "cell_type": "markdown",
   "metadata": {},
   "source": [
    "### Checks with simple types"
   ]
  },
  {
   "cell_type": "code",
   "execution_count": 251,
   "metadata": {},
   "outputs": [
    {
     "data": {
      "text/plain": [
       "('T', 'T', True)"
      ]
     },
     "execution_count": 251,
     "metadata": {},
     "output_type": "execute_result"
    }
   ],
   "source": [
    "token = tokens.BooleanToken(1)\n",
    "str(token), repr(token), token.show()"
   ]
  },
  {
   "cell_type": "code",
   "execution_count": 252,
   "metadata": {},
   "outputs": [
    {
     "data": {
      "text/plain": [
       "('I\"', 'I(1)', 1)"
      ]
     },
     "execution_count": 252,
     "metadata": {},
     "output_type": "execute_result"
    }
   ],
   "source": [
    "token = tokens.IntegerToken(1)\n",
    "str(token), repr(token), token.show()"
   ]
  },
  {
   "cell_type": "code",
   "execution_count": 253,
   "metadata": {},
   "outputs": [
    {
     "data": {
      "text/plain": [
       "('SVV&&', 'S(11ff)', '11ff')"
      ]
     },
     "execution_count": 253,
     "metadata": {},
     "output_type": "execute_result"
    }
   ],
   "source": [
    "token = tokens.StringToken(\"11ff\")\n",
    "str(token), repr(token), token.show()"
   ]
  },
  {
   "cell_type": "markdown",
   "metadata": {},
   "source": [
    "### Checks with Lambda and Variable types"
   ]
  },
  {
   "cell_type": "code",
   "execution_count": 254,
   "metadata": {},
   "outputs": [
    {
     "data": {
      "text/plain": [
       "('v#', 'v2', 'v2')"
      ]
     },
     "execution_count": 254,
     "metadata": {},
     "output_type": "execute_result"
    }
   ],
   "source": [
    "token = tokens.VariableToken(2)\n",
    "str(token), repr(token), token.show()"
   ]
  },
  {
   "cell_type": "code",
   "execution_count": 255,
   "metadata": {},
   "outputs": [
    {
     "data": {
      "text/plain": [
       "('L$ I$', 'L3->I(3)', {'L3': 3})"
      ]
     },
     "execution_count": 255,
     "metadata": {},
     "output_type": "execute_result"
    }
   ],
   "source": [
    "token = tokens.LambdaToken(3, 3)\n",
    "str(token), repr(token), token.show()"
   ]
  },
  {
   "cell_type": "code",
   "execution_count": 256,
   "metadata": {},
   "outputs": [
    {
     "data": {
      "text/plain": [
       "('L$ v$', 'L3->v3', {'L3': 'v3'})"
      ]
     },
     "execution_count": 256,
     "metadata": {},
     "output_type": "execute_result"
    }
   ],
   "source": [
    "token = tokens.LambdaToken(3, tokens.VariableToken(3))\n",
    "str(token), repr(token), token.show()"
   ]
  },
  {
   "cell_type": "markdown",
   "metadata": {},
   "source": [
    "### Checks with UnaryToken"
   ]
  },
  {
   "cell_type": "code",
   "execution_count": 257,
   "metadata": {},
   "outputs": [
    {
     "data": {
      "text/plain": [
       "('U! I\"', 'U!(I(1))', ['U!', 1], False)"
      ]
     },
     "execution_count": 257,
     "metadata": {},
     "output_type": "execute_result"
    }
   ],
   "source": [
    "token = tokens.UnaryToken(\"!\", tokens.IntegerToken(1))\n",
    "str(token), repr(token), token.show(), token.value"
   ]
  },
  {
   "cell_type": "code",
   "execution_count": 258,
   "metadata": {},
   "outputs": [
    {
     "data": {
      "text/plain": [
       "('U- I\"', 'U-(I(1))', ['U-', 1])"
      ]
     },
     "execution_count": 258,
     "metadata": {},
     "output_type": "execute_result"
    }
   ],
   "source": [
    "token = tokens.UnaryToken(\"-\", tokens.IntegerToken(1))\n",
    "str(token), repr(token), token.show()"
   ]
  },
  {
   "cell_type": "code",
   "execution_count": 259,
   "metadata": {},
   "outputs": [
    {
     "name": "stdout",
     "output_type": "stream",
     "text": [
      "I\" I(1) 1\n",
      "U- I\" U-(I(1)) ['U-', 1]\n"
     ]
    }
   ],
   "source": [
    "DOUBLE_NEGATIVE_NUMBER = tokens.UnaryToken(\"-\", - tokens.IntegerToken(1))\n",
    "token = DOUBLE_NEGATIVE_NUMBER()\n",
    "print(str(token), repr(token), token.show())\n",
    "token = - DOUBLE_NEGATIVE_NUMBER\n",
    "print(str(token), repr(token), token.show())\n",
    "# tokens.IntegerToken(1).value"
   ]
  },
  {
   "cell_type": "markdown",
   "metadata": {},
   "source": [
    "### Check simple operations with BinaryToken"
   ]
  },
  {
   "cell_type": "code",
   "execution_count": 260,
   "metadata": {},
   "outputs": [],
   "source": [
    "TRUE = tokens.BooleanToken(True)\n",
    "FALSE = tokens.BooleanToken(False)"
   ]
  },
  {
   "cell_type": "code",
   "execution_count": 261,
   "metadata": {},
   "outputs": [
    {
     "name": "stdout",
     "output_type": "stream",
     "text": [
      "Check = operation\n",
      "Test #0: =, [I(1), I(1)], T\n",
      "    'B= I\" I\"' ---> T True\n",
      "Test #1: =, [I(1), I(3)], F\n",
      "    'B= I\" I$' ---> F False\n",
      "Test #2: =, [S(a), S(a)], T\n",
      "    'B= S! S!' ---> T True\n",
      "Test #3: =, [S(a), S(b)], F\n",
      "    'B= S! S\"' ---> F False\n",
      "Test #4: =, [T, T], T\n",
      "    'B= T T' ---> T True\n",
      "Test #5: =, [F, T], F\n",
      "    'B= F T' ---> F False\n"
     ]
    }
   ],
   "source": [
    "print(\"Check = operation\")\n",
    "ops_to_check = [ \n",
    "    [\"=\", [tokens.IntegerToken(1), tokens.IntegerToken(1)], TRUE],\n",
    "    [\"=\", [tokens.IntegerToken(1), tokens.IntegerToken(3)], FALSE],\n",
    "    [\"=\", [tokens.StringToken(\"a\"), tokens.StringToken(\"a\")], TRUE],\n",
    "    [\"=\", [tokens.StringToken(\"a\"), tokens.StringToken(\"b\")], FALSE],\n",
    "    [\"=\", [tokens.BooleanToken(1), tokens.BooleanToken(\"a\")], TRUE],\n",
    "    [\"=\", [tokens.BooleanToken(0), tokens.BooleanToken(\"a\")], FALSE],\n",
    "]\n",
    "for test_number, (name, operands, expected_value) in enumerate(ops_to_check):\n",
    "    print(f\"Test #{test_number}:\", f\"{name}, {operands}, {expected_value}\")\n",
    "    cmd = tokens.BinaryToken(name, operands)\n",
    "    result = cmd()\n",
    "\n",
    "    print(\"   \", repr(str(cmd)), \"--->\", repr(result), result.show())\n",
    "    if expected_value is not None:\n",
    "        # check\n",
    "        assert (result == expected_value).value, f\"Expected result in test #{test_number} differs from actual result\"\n",
    "        pass\n"
   ]
  },
  {
   "cell_type": "code",
   "execution_count": 262,
   "metadata": {},
   "outputs": [
    {
     "name": "stdout",
     "output_type": "stream",
     "text": [
      "Check integer operations\n",
      "Test #0: +, [I(1), I(3)], I%\n",
      "    'B+ I\" I$' ---> I(4) 4\n",
      "Test #1: -, [I(1), I(3)], U- I#\n",
      "    'B- I\" I$' ---> U-(I(2)) ['U-', 2]\n",
      "Test #2: *, [I(1), I(3)], I$\n",
      "    'B* I\" I$' ---> I(3) 3\n",
      "Test #3: /, [I(1), I(3)], I!\n",
      "b I$\n",
      "    'B/ I\" I$' ---> I(0) 0\n",
      "Test #4: %, [I(1), I(3)], I\"\n",
      "    'B% I\" I$' ---> I(1) 1\n",
      "Test #5: <, [I(1), I(3)], T\n",
      "    'B< I\" I$' ---> T True\n",
      "Test #6: >, [I(1), I(3)], F\n",
      "    'B> I\" I$' ---> F False\n"
     ]
    }
   ],
   "source": [
    "print(\"Check integer operations\")\n",
    "\n",
    "ops_to_check = [\n",
    "    [\"+\", [tokens.IntegerToken(1), tokens.IntegerToken(3)], tokens.IntegerToken(4)],\n",
    "    [\"-\", [tokens.IntegerToken(1), tokens.IntegerToken(3)], tokens.wrap_with_token(-2)],\n",
    "    [\"*\", [tokens.IntegerToken(1), tokens.IntegerToken(3)], tokens.IntegerToken(3)],\n",
    "    [\"/\", [tokens.IntegerToken(1), tokens.IntegerToken(3)], tokens.IntegerToken(0)],\n",
    "    [\"%\", [tokens.IntegerToken(1), tokens.IntegerToken(3)], tokens.IntegerToken(1)],\n",
    "    [\"<\", [tokens.IntegerToken(1), tokens.IntegerToken(3)], TRUE],\n",
    "    [\">\", [tokens.IntegerToken(1), tokens.IntegerToken(3)], FALSE],\n",
    "\n",
    "]\n",
    "\n",
    "\n",
    "for test_number, (name, operands, expected_value) in enumerate(ops_to_check):\n",
    "    print(f\"Test #{test_number}:\", f\"{name}, {operands}, {expected_value}\")\n",
    "    cmd = tokens.BinaryToken(name, operands)\n",
    "    result = cmd()\n",
    "\n",
    "    print(\"   \", repr(str(cmd)), \"--->\", repr(result), result.show())\n",
    "    if expected_value is not None:\n",
    "        # check\n",
    "        assert (result == expected_value).value, f\"Expected result in test #{test_number} differs from actual result\"\n",
    "        pass\n"
   ]
  },
  {
   "cell_type": "code",
   "execution_count": 263,
   "metadata": {},
   "outputs": [
    {
     "data": {
      "text/plain": [
       "T"
      ]
     },
     "execution_count": 263,
     "metadata": {},
     "output_type": "execute_result"
    }
   ],
   "source": [
    "tokens.BinaryToken(\"|\", [TRUE, TRUE])()\n",
    "\n",
    "\n",
    "# cmd()"
   ]
  },
  {
   "cell_type": "code",
   "execution_count": 264,
   "metadata": {},
   "outputs": [
    {
     "name": "stdout",
     "output_type": "stream",
     "text": [
      "Check bool operations\n",
      "Test #0: |, [T, T], T\n",
      "Test #1: |, [T, F], T\n",
      "Test #2: |, [F, T], T\n",
      "Test #3: |, [F, F], F\n",
      "Test #4: &, [T, T], T\n",
      "Test #5: &, [T, F], F\n",
      "Test #6: &, [F, T], F\n",
      "Test #7: &, [F, F], F\n"
     ]
    }
   ],
   "source": [
    "print(\"Check bool operations\")\n",
    "\n",
    "ops_to_check = [\n",
    "\n",
    "    [\"|\", [tokens.BooleanToken(1), tokens.BooleanToken(\"a\")], TRUE],\n",
    "    [\"|\", [TRUE, FALSE], TRUE],\n",
    "    [\"|\", [FALSE, TRUE], TRUE],\n",
    "    [\"|\", [FALSE, FALSE], FALSE],\n",
    "    [\"&\", [tokens.BooleanToken(1), tokens.BooleanToken(\"a\")], TRUE],\n",
    "    [\"&\", [TRUE, FALSE], FALSE],\n",
    "    [\"&\", [FALSE, TRUE], FALSE],\n",
    "    [\"&\", [FALSE, FALSE], FALSE],\n",
    "]\n",
    "\n",
    "\n",
    "for test_number, (name, operands, expected_value) in enumerate(ops_to_check):\n",
    "    print(f\"Test #{test_number}:\", f\"{name}, {operands}, {expected_value}\")\n",
    "    cmd = tokens.BinaryToken(name, operands)\n",
    "    result = cmd()\n",
    "    if not isinstance(result, tokens.CommonToken):\n",
    "        print(result)\n",
    "    s = \"     \" + repr(str(cmd)) + \" ---> \"\n",
    "    s += repr(result)\n",
    "    s += f\" {result.show()}\"\n",
    "\n",
    "    if expected_value is not None:\n",
    "        # check\n",
    "        assert (result == expected_value).value, f\"Expected result in test #{test_number} differs from actual result\"\n",
    "        pass\n"
   ]
  },
  {
   "cell_type": "code",
   "execution_count": 265,
   "metadata": {},
   "outputs": [
    {
     "name": "stdout",
     "output_type": "stream",
     "text": [
      "Check string operations\n",
      "Test #0:\n",
      "    name: '.'\n",
      "    operands: [S(a), S(bcde)]\n",
      "    expected_value: S(abcde)\n",
      "    'B. S! S\"#$%' ---> S(abcde) abcde\n",
      "Test #1:\n",
      "    name: 'T'\n",
      "    operands: [I(1), S(abcde)]\n",
      "    expected_value: S(a)\n",
      "    'BT I\" S!\"#$%' ---> S(a) a\n",
      "Test #2:\n",
      "    name: 'T'\n",
      "    operands: [U-(U-(I(1))), S(abcde)]\n",
      "    expected_value: S(a)\n",
      "    'BT U- U- I\" S!\"#$%' ---> S(a) a\n",
      "Test #3:\n",
      "    name: 'D'\n",
      "    operands: [I(1), S(abcde)]\n",
      "    expected_value: S(bcde)\n",
      "    'BD I\" S!\"#$%' ---> S(bcde) bcde\n",
      "Test #4:\n",
      "    name: 'D'\n",
      "    operands: [U-(U-(I(1))), S(abcde)]\n",
      "    expected_value: S(bcde)\n",
      "    'BD U- U- I\" S!\"#$%' ---> S(bcde) bcde\n"
     ]
    }
   ],
   "source": [
    "print(\"Check string operations\")\n",
    "DOUBLE_NEGATIVE_NUMBER = tokens.UnaryToken(\"-\", - tokens.IntegerToken(1))\n",
    "\n",
    "ops_to_check = [\n",
    "    \n",
    "    [\".\", [tokens.StringToken(\"a\"), tokens.StringToken(\"bcde\")], tokens.StringToken(\"abcde\")],\n",
    "    [\"T\", [tokens.IntegerToken(1), tokens.StringToken(\"abcde\")], tokens.StringToken(\"a\")],\n",
    "    [\"T\", [DOUBLE_NEGATIVE_NUMBER, tokens.StringToken(\"abcde\")], tokens.StringToken(\"a\")],\n",
    "    [\"D\", [tokens.IntegerToken(1), tokens.StringToken(\"abcde\")], tokens.StringToken(\"bcde\")],\n",
    "    [\"D\", [DOUBLE_NEGATIVE_NUMBER, tokens.StringToken(\"abcde\")], tokens.StringToken(\"bcde\")],\n",
    "]\n",
    "\n",
    "\n",
    "for test_number, (name, operands, expected_value) in enumerate(ops_to_check):\n",
    "    print(f\"Test #{test_number}:\")\n",
    "    print(f\"    name: {repr(name)}\")\n",
    "    print(f\"    operands: {operands}\")\n",
    "    print(f\"    expected_value: {repr(expected_value)}\")\n",
    "    cmd = tokens.BinaryToken(name, operands)\n",
    "    result = cmd()\n",
    "\n",
    "    print(\"   \", repr(str(cmd)), \"--->\", repr(result), result.show())\n",
    "    if expected_value is not None:\n",
    "        # check\n",
    "        assert (result == expected_value).value, f\"Expected result in test #{test_number} differs from actual result\"\n",
    "        pass\n"
   ]
  },
  {
   "cell_type": "code",
   "execution_count": 266,
   "metadata": {},
   "outputs": [
    {
     "name": "stdout",
     "output_type": "stream",
     "text": [
      "B+ I\" I#\n"
     ]
    },
    {
     "data": {
      "text/plain": [
       "3"
      ]
     },
     "execution_count": 266,
     "metadata": {},
     "output_type": "execute_result"
    }
   ],
   "source": [
    "\n",
    "# Example command which evaluates the expression to string capable to communicating with server\n",
    "cmd = tokens.BinaryToken(\".\", [\n",
    "    tokens.StringToken(\"echo \"), \n",
    "    tokens.UnaryToken(\"$\",\n",
    "        tokens.BinaryToken(\"+\", [tokens.IntegerToken(1), tokens.IntegerToken(2)])\n",
    "    )\n",
    "])\n",
    "cmd = tokens.BinaryToken(\"+\", [tokens.IntegerToken(1), tokens.IntegerToken(2)])\n",
    "\n",
    "print(str(cmd))\n",
    "cmd().show()\n",
    "\n",
    "\n"
   ]
  },
  {
   "cell_type": "markdown",
   "metadata": {},
   "source": [
    "### Binary token $"
   ]
  },
  {
   "cell_type": "code",
   "execution_count": 267,
   "metadata": {},
   "outputs": [],
   "source": [
    "# TEST_STRING + TEST_STRING\n"
   ]
  },
  {
   "cell_type": "code",
   "execution_count": 269,
   "metadata": {},
   "outputs": [
    {
     "name": "stdout",
     "output_type": "stream",
     "text": [
      "Check $ operations\n",
      "Test #0:\n",
      "after simplify is called [L0->v0, S(bcde)]\n",
      "comparing expression inficator with current one\n",
      "v0 0\n",
      "    'B$ L! S\"#$% S\"#$%' ---> S(bcde) bcde\n",
      "Test #1:\n",
      "after simplify is called [L1->v1, S(bcde)]\n",
      "comparing expression inficator with current one\n",
      "v1 1\n",
      "    'B$ L\" S\"#$% S\"#$%' ---> S(bcde) bcde\n",
      "Test #2:\n",
      "after simplify is called [L0->S(bcde), S(bcde)]\n",
      "call substitute 0 S(bcde) S(bcde)\n",
      "    'B$ L! S\"#$% S\"#$%' ---> S(bcde) bcde\n",
      "Test #3:\n",
      "after simplify is called [L3->S(bcde), S(bcde)]\n",
      "call substitute 3 S(bcde) S(bcde)\n",
      "    'B$ L$ S\"#$% S\"#$%' ---> S(bcde) bcde\n",
      "Test #4:\n",
      "after simplify is called [L3->I(3), S(bcde)]\n",
      "call substitute 3 I(3) S(bcde)\n",
      "    'B$ L$ I$ S\"#$%' ---> I(3) 3\n",
      "Test #5:\n",
      "after simplify is called [L3->I(4), S(bcde)]\n",
      "call substitute 3 I(4) S(bcde)\n",
      "    'B$ L$ I% S\"#$%' ---> I(4) 4\n",
      "Test #6:\n",
      "after simplify is called [L3->S(bcde), S(bcde)]\n",
      "call substitute 3 S(bcde) S(bcde)\n",
      "    'B$ L$ S\"#$% S\"#$%' ---> S(bcde) bcde\n",
      "Test #7:\n",
      "after simplify is called [L3->S(bcde), S(bcde)]\n",
      "call substitute 3 S(bcde) S(bcde)\n",
      "    'B$ L$ S\"#$% S\"#$%' ---> S(bcde) bcde\n",
      "Test #8:\n",
      "v$\n",
      "after simplify is called [L3->B.([v3, v3]), S(bcde)]\n",
      "call substitute 3 B.([v3, v3]) S(bcde)\n",
      "S\"#$%\n",
      "    'B$ L$ B. S\"#$% S\"#$% S\"#$%' ---> S(bcdebcde) bcdebcde\n"
     ]
    }
   ],
   "source": [
    "print(\"Check $ operations\")\n",
    "# DOUBLE_NEGATIVE_NUMBER = tokens.UnaryToken(\"-\", - tokens.IntegerToken(1))\n",
    "TEST_STRING = tokens.StringToken(\"bcde\")\n",
    "LAMBDA_ID = lambda num: tokens.LambdaToken(num, tokens.VariableToken(num))\n",
    "LAMBDA_NID = lambda num, num2: tokens.LambdaToken(num, tokens.VariableToken(num2))\n",
    "LAMBDA_CONST = lambda num, value: tokens.LambdaToken(num, value)\n",
    "LAMBDA_DOT = lambda num: tokens.LambdaToken(num, tokens.BinaryToken(\".\", [tokens.VariableToken(num), tokens.VariableToken(num)]))\n",
    "                                                     \n",
    "ops_to_check = [\n",
    "    [\"$\", [LAMBDA_ID(0), TEST_STRING], TEST_STRING],\n",
    "    [\"$\", [LAMBDA_ID(1), TEST_STRING], TEST_STRING],\n",
    "    [\"$\", [LAMBDA_CONST(0, \"bcde\"), TEST_STRING], TEST_STRING],\n",
    "    [\"$\", [LAMBDA_CONST(3, \"bcde\"), TEST_STRING], TEST_STRING],\n",
    "    \n",
    "    [\"$\", [LAMBDA_CONST(3, 3), TEST_STRING], tokens.IntegerToken(3)],\n",
    "    [\"$\", [LAMBDA_CONST(3, 4), TEST_STRING], tokens.IntegerToken(4)],\n",
    "    [\"$\", [LAMBDA_CONST(3, TEST_STRING), TEST_STRING], TEST_STRING],\n",
    "    [\"$\", [LAMBDA_CONST(3, TEST_STRING), TEST_STRING], TEST_STRING],\n",
    "    \n",
    "    [\"$\", [LAMBDA_DOT(3), TEST_STRING], TEST_STRING + TEST_STRING],\n",
    "    \n",
    "    # [\"$\", [LAMBDA_CONST(3, ), TEST_STRING], TEST_STRING],\n",
    "    #[\"$\", [tokens.IntegerToken(1), tokens.StringToken(\"abcde\")], tokens.StringToken(\"a\")],\n",
    "    #[\"$\", [DOUBLE_NEGATIVE_NUMBER, tokens.StringToken(\"abcde\")], tokens.StringToken(\"a\")],\n",
    "    #[\"$\", [tokens.IntegerToken(1), tokens.StringToken(\"abcde\")], tokens.StringToken(\"bcde\")],\n",
    "    #[\"$\", [DOUBLE_NEGATIVE_NUMBER, tokens.StringToken(\"abcde\")], tokens.StringToken(\"bcde\")],\n",
    "]\n",
    "\n",
    "\n",
    "for test_number, (name, operands, expected_value) in enumerate(ops_to_check):\n",
    "    print(f\"Test #{test_number}:\")\n",
    "    #print(f\"    name: {repr(name)}\")\n",
    "    #print(f\"    operands: {operands}\")\n",
    "    #print(f\"    expected_value: {repr(expected_value)}\")\n",
    "    cmd = tokens.BinaryToken(name, operands)\n",
    "    result = cmd()\n",
    "\n",
    "    print(\"   \", repr(str(cmd)), \"--->\", repr(result), result.show())\n",
    "    if expected_value is not None:\n",
    "        # check\n",
    "        assert (result == expected_value).value, f\"Expected result in test #{test_number} differs from actual result\"\n",
    "        pass\n"
   ]
  },
  {
   "cell_type": "markdown",
   "metadata": {},
   "source": [
    "# Goal \n",
    "Currently the logic behind lambdas doesn't work correctly. To fix it I'll need to debug it."
   ]
  },
  {
   "cell_type": "code",
   "execution_count": 270,
   "metadata": {},
   "outputs": [],
   "source": [
    "token_expression = utils.parse_text(\"B$ L# v# SB%,,/\")\n",
    "expression_graph = token_expression.graph()"
   ]
  },
  {
   "cell_type": "code",
   "execution_count": 271,
   "metadata": {},
   "outputs": [
    {
     "name": "stdout",
     "output_type": "stream",
     "text": [
      "B$ L# v# SB%,,/\n",
      "after simplify is called [L2->v2, S(Hello)]\n",
      "comparing expression inficator with current one\n",
      "v2 2\n"
     ]
    },
    {
     "data": {
      "text/plain": [
       "'Hello'"
      ]
     },
     "execution_count": 271,
     "metadata": {},
     "output_type": "execute_result"
    }
   ],
   "source": [
    "# utils.parse_text(\"B$ B$ L# L$ v# B. SB%,,/ S}Q/2,$_ IK\").graph_data()\n",
    "print(str(token_expression))\n",
    "token_expression().value"
   ]
  },
  {
   "cell_type": "code",
   "execution_count": 272,
   "metadata": {},
   "outputs": [
    {
     "data": {
      "image/png": "[encoded data removed]",
      "text/plain": [
       "<Figure size 500x500 with 1 Axes>"
      ]
     },
     "metadata": {},
     "output_type": "display_data"
    }
   ],
   "source": [
    "# nx.draw(expression_graph, pos=nx.spring_layout(expression_graph))\n",
    "import matplotlib.pyplot as plt\n",
    "\n",
    "pos = nx.bfs_layout(expression_graph, start=list(expression_graph.nodes)[0])\n",
    "fig, ax = plt.subplots(figsize=(5, 5))\n",
    "# Visualize graph components\n",
    "nx.draw_networkx_edges(expression_graph, pos, alpha=0.3, width=1, edge_color=\"m\")\n",
    "nx.draw_networkx_nodes(expression_graph, pos, node_size=10, node_color=\"#210070\", alpha=0.9)\n",
    "label_options = {\"ec\": \"k\", \"fc\": \"white\", \"alpha\": 0.7}\n",
    "nx.draw_networkx_labels(\n",
    "    expression_graph, pos, font_size=14, bbox=label_options, \n",
    "    labels=dict(expression_graph.nodes.data(\"label\"))\n",
    ")\n",
    "\n",
    "# Title/legend\n",
    "font = {\"fontname\": \"Helvetica\", \"color\": \"k\", \"fontweight\": \"bold\", \"fontsize\": 14}\n",
    "ax.set_title(\"Token expression\", font)\n",
    "# Change font color for legend\n",
    "font[\"color\"] = \"r\""
   ]
  },
  {
   "cell_type": "code",
   "execution_count": null,
   "metadata": {},
   "outputs": [],
   "source": []
  },
  {
   "cell_type": "code",
   "execution_count": 273,
   "metadata": {},
   "outputs": [],
   "source": [
    "token_expression = utils.parse_text(\"B$ L# B$ L\\\" B+ v\\\" v\\\" B* I$ I# v8\")\n",
    "expression_graph = token_expression.graph()"
   ]
  },
  {
   "cell_type": "code",
   "execution_count": 274,
   "metadata": {},
   "outputs": [
    {
     "data": {
      "text/plain": [
       "'B$([L2->B$([L1->B+([v1, v1]), B*([I(3), I(2)])]), v23])'"
      ]
     },
     "execution_count": 274,
     "metadata": {},
     "output_type": "execute_result"
    }
   ],
   "source": [
    "repr(token_expression)"
   ]
  },
  {
   "cell_type": "code",
   "execution_count": null,
   "metadata": {},
   "outputs": [],
   "source": []
  },
  {
   "cell_type": "code",
   "execution_count": 275,
   "metadata": {},
   "outputs": [
    {
     "name": "stdout",
     "output_type": "stream",
     "text": [
      "B$ L# B$ L\" B+ v\" v\" B* I$ I# v8\n",
      "v\"\n",
      "I$\n",
      "after simplify is called [L1->B+([v1, v1]), I(6)]\n",
      "call substitute 1 B+([v1, v1]) I(6)\n",
      "I'\n",
      "after simplify is called [L2->I(12), v23]\n",
      "call substitute 2 I(12) v23\n"
     ]
    },
    {
     "data": {
      "text/plain": [
       "(12, 'I-')"
      ]
     },
     "execution_count": 275,
     "metadata": {},
     "output_type": "execute_result"
    }
   ],
   "source": [
    "print(str(token_expression))\n",
    "result = token_expression()\n",
    "result.value, str(result)"
   ]
  },
  {
   "cell_type": "code",
   "execution_count": 276,
   "metadata": {},
   "outputs": [
    {
     "data": {
      "image/png": "[encoded data removed]",
      "text/plain": [
       "<Figure size 1200x1200 with 1 Axes>"
      ]
     },
     "metadata": {},
     "output_type": "display_data"
    }
   ],
   "source": [
    "\n",
    "pos = nx.bfs_layout(expression_graph, start=list(expression_graph.nodes)[0])\n",
    "fig, ax = plt.subplots(figsize=(12, 12))\n",
    "# Visualize graph components\n",
    "nx.draw_networkx_edges(expression_graph, pos, alpha=0.3, width=1, edge_color=\"m\")\n",
    "nx.draw_networkx_nodes(expression_graph, pos, node_size=10, node_color=\"#210070\", alpha=0.9)\n",
    "label_options = {\"ec\": \"k\", \"fc\": \"white\", \"alpha\": 0.7}\n",
    "nx.draw_networkx_labels(\n",
    "    expression_graph, pos, font_size=14, bbox=label_options, \n",
    "    labels=dict(expression_graph.nodes.data(\"label\"))\n",
    ")\n",
    "\n",
    "# Title/legend\n",
    "font = {\"fontname\": \"Helvetica\", \"color\": \"k\", \"fontweight\": \"bold\", \"fontsize\": 14}\n",
    "ax.set_title(\"Token expression\", font)\n",
    "# Change font color for legend\n",
    "font[\"color\"] = \"r\""
   ]
  },
  {
   "cell_type": "code",
   "execution_count": 277,
   "metadata": {},
   "outputs": [
    {
     "name": "stdout",
     "output_type": "stream",
     "text": [
      "SB%,,/\n",
      "after simplify is called [L2->L3->v2, S(Hello World!)]\n",
      "call substitute 2 L3->v2 S(Hello World!)\n",
      "after simplify is called [L3->S(Hello World!), I(42)]\n",
      "call substitute 3 S(Hello World!) I(42)\n"
     ]
    },
    {
     "data": {
      "text/plain": [
       "S(Hello World!)"
      ]
     },
     "execution_count": 277,
     "metadata": {},
     "output_type": "execute_result"
    }
   ],
   "source": [
    "test_string=\"B$ B$ L# L$ v# B. SB%,,/ S}Q/2,$_ IK\"\n",
    "token_expression = utils.parse_text(test_string)\n",
    "result = token_expression()\n",
    "result()"
   ]
  },
  {
   "cell_type": "code",
   "execution_count": 278,
   "metadata": {},
   "outputs": [],
   "source": [
    "# print(token_expression.parameters[0].show())\n",
    "# token_expression.simplify()\n",
    "# token_expression.parameters[0].simplify()\n",
    "# token_expression()\n",
    "# token_expression.simplify()\n",
    "# result.substitution_list"
   ]
  },
  {
   "cell_type": "code",
   "execution_count": 300,
   "metadata": {},
   "outputs": [],
   "source": [
    "test_string = \"B$ B$ L\\\" B$ L# B$ v\\\" B$ v# v# L# B$ v\\\" B$ v# v# L\\\" L# ? B= v# I! I\\\" B$ L$ B+ B$ v\\\" v$ B$ v\\\" v$ B- v# I\\\" I%\"\n",
    "token_expression = utils.parse_text(test_string)\n",
    "#result = token_expression()\n",
    "#result.show()"
   ]
  },
  {
   "cell_type": "code",
   "execution_count": 303,
   "metadata": {},
   "outputs": [],
   "source": [
    "# token_expression.parameters[0].parameters #.parameters"
   ]
  },
  {
   "cell_type": "code",
   "execution_count": 305,
   "metadata": {},
   "outputs": [],
   "source": [
    "# repr(token_expression.parameters[0])  #.parameters[1].expression.expression.f_value.parameters"
   ]
  },
  {
   "cell_type": "code",
   "execution_count": 306,
   "metadata": {},
   "outputs": [],
   "source": [
    "# repr(token_expression.parameters[1]) "
   ]
  },
  {
   "cell_type": "code",
   "execution_count": 307,
   "metadata": {},
   "outputs": [],
   "source": [
    "# repr(token_expression.parameters[0].apply(token_expression.parameters[1]))"
   ]
  },
  {
   "cell_type": "code",
   "execution_count": null,
   "metadata": {},
   "outputs": [],
   "source": []
  }
 ],
 "metadata": {
  "kernelspec": {
   "display_name": "kaggle_env",
   "language": "python",
   "name": "python3"
  },
  "language_info": {
   "codemirror_mode": {
    "name": "ipython",
    "version": 3
   },
   "file_extension": ".py",
   "mimetype": "text/x-python",
   "name": "python",
   "nbconvert_exporter": "python",
   "pygments_lexer": "ipython3",
   "version": "3.10.14"
  }
 },
 "nbformat": 4,
 "nbformat_minor": 2
}
